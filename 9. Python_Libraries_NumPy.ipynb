{
 "cells": [
  {
   "cell_type": "markdown",
   "id": "f44c94fd",
   "metadata": {},
   "source": [
    "## Libraries in Python\n",
    "### Libraries are collection of functions and method which allows user to perform many actions without writting the code"
   ]
  },
  {
   "cell_type": "markdown",
   "id": "feee2bf9",
   "metadata": {},
   "source": [
    "### 1. NumPy (Numerical Python is a core library for numeric and scientific cumputing. It consists of multi -  dimensional array objects and a collection of routines for processing those arrays"
   ]
  },
  {
   "cell_type": "markdown",
   "id": "b2e4cb03",
   "metadata": {},
   "source": [
    "### ---  Some numpy functions  ---"
   ]
  },
  {
   "cell_type": "markdown",
   "id": "f8151140",
   "metadata": {},
   "source": [
    "### Difference between array and lists --- lists can be a collection of non-homogeneous elements but array is collection of homogeneous elements "
   ]
  },
  {
   "cell_type": "markdown",
   "id": "40aa709d",
   "metadata": {},
   "source": [
    "### 1. Single dimensional array"
   ]
  },
  {
   "cell_type": "code",
   "execution_count": 93,
   "id": "39ce507f",
   "metadata": {},
   "outputs": [
    {
     "data": {
      "text/plain": [
       "array([10, 20, 30, 40, 50, 60])"
      ]
     },
     "execution_count": 93,
     "metadata": {},
     "output_type": "execute_result"
    }
   ],
   "source": [
    "import numpy as np\n",
    "# Converting list into array---\n",
    "n1 = np.array([10,20,30,40,50,60])\n",
    "n1"
   ]
  },
  {
   "cell_type": "markdown",
   "id": "c07c6d4f",
   "metadata": {},
   "source": [
    "### 2. Multi dimensional array"
   ]
  },
  {
   "cell_type": "code",
   "execution_count": 94,
   "id": "db03b0de",
   "metadata": {},
   "outputs": [
    {
     "data": {
      "text/plain": [
       "array([[ 10,  20,  30,  40,  50,  60],\n",
       "       [ 50,  60,  70,  80,  90, 100]])"
      ]
     },
     "execution_count": 94,
     "metadata": {},
     "output_type": "execute_result"
    }
   ],
   "source": [
    "n2 = np.array([[10,20,30,40,50,60],[50,60,70,80,90,100]]); n2 # both array length should be equal.i.e. 6 elements in both arrays"
   ]
  },
  {
   "cell_type": "markdown",
   "id": "46867537",
   "metadata": {},
   "source": [
    "### 3. numpy array initializing with zero"
   ]
  },
  {
   "cell_type": "code",
   "execution_count": 95,
   "id": "c3bd6eac",
   "metadata": {},
   "outputs": [
    {
     "data": {
      "text/plain": [
       "array([[0., 0., 0., 0.],\n",
       "       [0., 0., 0., 0.]])"
      ]
     },
     "execution_count": 95,
     "metadata": {},
     "output_type": "execute_result"
    }
   ],
   "source": [
    "zero_array = np.zeros((2,4));zero_array # first element is for rows and second is for colums, value will be 0 by default"
   ]
  },
  {
   "cell_type": "code",
   "execution_count": 96,
   "id": "5657282e",
   "metadata": {},
   "outputs": [
    {
     "data": {
      "text/plain": [
       "array([[1., 1., 1.],\n",
       "       [1., 1., 1.]])"
      ]
     },
     "execution_count": 96,
     "metadata": {},
     "output_type": "execute_result"
    }
   ],
   "source": [
    "zero_arr = np.ones((2,3)); zero_arr"
   ]
  },
  {
   "cell_type": "markdown",
   "id": "82d6ec38",
   "metadata": {},
   "source": [
    "### 4. numpy array initializing witth same number"
   ]
  },
  {
   "cell_type": "code",
   "execution_count": 97,
   "id": "dc3a101b",
   "metadata": {},
   "outputs": [
    {
     "data": {
      "text/plain": [
       "array([[10, 10, 10, 10],\n",
       "       [10, 10, 10, 10]])"
      ]
     },
     "execution_count": 97,
     "metadata": {},
     "output_type": "execute_result"
    }
   ],
   "source": [
    "same_array = np.full((2,4),10); same_array # same as zeros array but it fills the given value"
   ]
  },
  {
   "cell_type": "markdown",
   "id": "66c5ac3a",
   "metadata": {},
   "source": [
    "### 5. numpy array initializing with range"
   ]
  },
  {
   "cell_type": "code",
   "execution_count": 98,
   "id": "3c154478",
   "metadata": {},
   "outputs": [
    {
     "data": {
      "text/plain": [
       "array([10, 11, 12, 13, 14, 15, 16, 17, 18, 19, 20, 21, 22, 23, 24, 25, 26,\n",
       "       27, 28, 29, 30, 31, 32, 33, 34, 35, 36, 37, 38, 39, 40, 41, 42, 43,\n",
       "       44, 45, 46, 47, 48, 49, 50])"
      ]
     },
     "execution_count": 98,
     "metadata": {},
     "output_type": "execute_result"
    }
   ],
   "source": [
    "range_np = np.arange(10,51);range_np"
   ]
  },
  {
   "cell_type": "markdown",
   "id": "38c87713",
   "metadata": {},
   "source": [
    "### 6. numpy array initializing with range and step in between"
   ]
  },
  {
   "cell_type": "code",
   "execution_count": 99,
   "id": "bf80e839",
   "metadata": {},
   "outputs": [
    {
     "data": {
      "text/plain": [
       "array([  0,  10,  20,  30,  40,  50,  60,  70,  80,  90, 100])"
      ]
     },
     "execution_count": 99,
     "metadata": {},
     "output_type": "execute_result"
    }
   ],
   "source": [
    "range_np_step = np.arange(0,101,10); range_np_step # 10 is the gap between start and end value"
   ]
  },
  {
   "cell_type": "markdown",
   "id": "c51e1dfd",
   "metadata": {},
   "source": [
    "### 7. numpy array with random numbers"
   ]
  },
  {
   "cell_type": "code",
   "execution_count": 100,
   "id": "64d6118d",
   "metadata": {},
   "outputs": [
    {
     "data": {
      "text/plain": [
       "array([778, 894, 980, 437, 981])"
      ]
     },
     "execution_count": 100,
     "metadata": {},
     "output_type": "execute_result"
    }
   ],
   "source": [
    "random_np = np.random.randint(10,1001,5); random_np # 10 is starting value, 1001 is end value, 5 is number of values we need"
   ]
  },
  {
   "cell_type": "code",
   "execution_count": 101,
   "id": "6b55500f",
   "metadata": {},
   "outputs": [
    {
     "name": "stdout",
     "output_type": "stream",
     "text": [
      "[[ 0.30484034 -0.03822323  0.15422282  0.99512124]\n",
      " [-1.33465553  1.90248945  0.69818024 -0.32121556]]\n",
      "-----------------------------\n",
      "[[0.60498244 0.88013032 0.33701918 0.12626953]\n",
      " [0.57566357 0.92653896 0.11885541 0.50222364]\n",
      " [0.70144198 0.88560017 0.29346608 0.88625089]]\n",
      "-----------------------------\n",
      "[[30 22 11 29 91 77  4 10 25]\n",
      " [21  7 29 95 65 60 32 98 57]]\n"
     ]
    }
   ],
   "source": [
    "random_n = np.random.randn(2,4); print(random_n); print(\"-----------------------------\")#generates numbers from uniform distribution.\n",
    "random_n1 = np.random.rand(3,4); print(random_n1); print(\"-----------------------------\")#generates numbers from normal distribution.\n",
    "random_n2 = np.random.randint(1,101,(2,9)); print(random_n2)"
   ]
  },
  {
   "cell_type": "markdown",
   "id": "6a570f25",
   "metadata": {},
   "source": [
    "### 8. How to check and change the shape of an array"
   ]
  },
  {
   "cell_type": "code",
   "execution_count": 102,
   "id": "488fe851",
   "metadata": {},
   "outputs": [
    {
     "data": {
      "text/plain": [
       "array([[2, 3, 4],\n",
       "       [5, 6, 7]])"
      ]
     },
     "execution_count": 102,
     "metadata": {},
     "output_type": "execute_result"
    }
   ],
   "source": [
    "n1 = np.array([[2,3,4],[5,6,7]]);n1"
   ]
  },
  {
   "cell_type": "code",
   "execution_count": 103,
   "id": "470db087",
   "metadata": {},
   "outputs": [
    {
     "data": {
      "text/plain": [
       "(2, 3)"
      ]
     },
     "execution_count": 103,
     "metadata": {},
     "output_type": "execute_result"
    }
   ],
   "source": [
    "n1.shape"
   ]
  },
  {
   "cell_type": "code",
   "execution_count": 104,
   "id": "e8006c46",
   "metadata": {},
   "outputs": [],
   "source": [
    "n1.shape = (6,1)"
   ]
  },
  {
   "cell_type": "code",
   "execution_count": 105,
   "id": "19b272be",
   "metadata": {},
   "outputs": [
    {
     "data": {
      "text/plain": [
       "array([[2],\n",
       "       [3],\n",
       "       [4],\n",
       "       [5],\n",
       "       [6],\n",
       "       [7]])"
      ]
     },
     "execution_count": 105,
     "metadata": {},
     "output_type": "execute_result"
    }
   ],
   "source": [
    "n1"
   ]
  },
  {
   "cell_type": "code",
   "execution_count": 106,
   "id": "c5d79992",
   "metadata": {},
   "outputs": [],
   "source": [
    "n1.shape = (3,2)"
   ]
  },
  {
   "cell_type": "code",
   "execution_count": 107,
   "id": "08cf8685",
   "metadata": {},
   "outputs": [
    {
     "data": {
      "text/plain": [
       "array([[2, 3],\n",
       "       [4, 5],\n",
       "       [6, 7]])"
      ]
     },
     "execution_count": 107,
     "metadata": {},
     "output_type": "execute_result"
    }
   ],
   "source": [
    "n1"
   ]
  },
  {
   "cell_type": "code",
   "execution_count": 108,
   "id": "1351cc8f",
   "metadata": {},
   "outputs": [
    {
     "data": {
      "text/plain": [
       "array([[2, 3, 4, 5, 6, 7]])"
      ]
     },
     "execution_count": 108,
     "metadata": {},
     "output_type": "execute_result"
    }
   ],
   "source": [
    "n1.reshape(1,6)"
   ]
  },
  {
   "cell_type": "code",
   "execution_count": 109,
   "id": "7b304726",
   "metadata": {},
   "outputs": [
    {
     "data": {
      "text/plain": [
       "array([ 1.        ,  1.9047619 ,  2.80952381,  3.71428571,  4.61904762,\n",
       "        5.52380952,  6.42857143,  7.33333333,  8.23809524,  9.14285714,\n",
       "       10.04761905, 10.95238095, 11.85714286, 12.76190476, 13.66666667,\n",
       "       14.57142857, 15.47619048, 16.38095238, 17.28571429, 18.19047619,\n",
       "       19.0952381 , 20.        ])"
      ]
     },
     "execution_count": 109,
     "metadata": {},
     "output_type": "execute_result"
    }
   ],
   "source": [
    "#linspace --- this fuction used to create equally spaced elements array\n",
    "linarray = np.linspace(1,20,22); linarray"
   ]
  },
  {
   "cell_type": "code",
   "execution_count": 110,
   "id": "c7b31e1c",
   "metadata": {},
   "outputs": [
    {
     "data": {
      "text/plain": [
       "array([[  1.        ,   5.76190476,  10.52380952,  15.28571429,\n",
       "         20.04761905,  24.80952381,  29.57142857,  34.33333333,\n",
       "         39.0952381 ,  43.85714286,  48.61904762],\n",
       "       [ 53.38095238,  58.14285714,  62.9047619 ,  67.66666667,\n",
       "         72.42857143,  77.19047619,  81.95238095,  86.71428571,\n",
       "         91.47619048,  96.23809524, 101.        ]])"
      ]
     },
     "execution_count": 110,
     "metadata": {},
     "output_type": "execute_result"
    }
   ],
   "source": [
    "# --- another way to generate equally spaced elements array using linspace\n",
    "linarray1 = np.linspace(1,101,22).reshape(2,11); linarray1"
   ]
  },
  {
   "cell_type": "code",
   "execution_count": 111,
   "id": "7eadc362",
   "metadata": {},
   "outputs": [
    {
     "data": {
      "text/plain": [
       "array([[ 1.        ,  1.9047619 ,  2.80952381,  3.71428571,  4.61904762,\n",
       "         5.52380952,  6.42857143,  7.33333333,  8.23809524,  9.14285714,\n",
       "        10.04761905, 10.95238095, 11.85714286, 12.76190476, 13.66666667,\n",
       "        14.57142857, 15.47619048, 16.38095238, 17.28571429, 18.19047619,\n",
       "        19.0952381 , 20.        ]])"
      ]
     },
     "execution_count": 111,
     "metadata": {},
     "output_type": "execute_result"
    }
   ],
   "source": [
    "linarray.reshape(1,22)"
   ]
  },
  {
   "cell_type": "code",
   "execution_count": 112,
   "id": "55838c82",
   "metadata": {},
   "outputs": [
    {
     "data": {
      "text/plain": [
       "array([[[0., 0., 0., 0., 0., 0., 0., 0.],\n",
       "        [0., 0., 0., 0., 0., 0., 0., 0.]],\n",
       "\n",
       "       [[0., 0., 0., 0., 0., 0., 0., 0.],\n",
       "        [0., 0., 0., 0., 0., 0., 0., 0.]],\n",
       "\n",
       "       [[0., 0., 0., 0., 0., 0., 0., 0.],\n",
       "        [0., 0., 0., 0., 0., 0., 0., 0.]],\n",
       "\n",
       "       [[0., 0., 0., 0., 0., 0., 0., 0.],\n",
       "        [0., 0., 0., 0., 0., 0., 0., 0.]],\n",
       "\n",
       "       [[0., 0., 0., 0., 0., 0., 0., 0.],\n",
       "        [0., 0., 0., 0., 0., 0., 0., 0.]]])"
      ]
     },
     "execution_count": 112,
     "metadata": {},
     "output_type": "execute_result"
    }
   ],
   "source": [
    "# 3d array\n",
    "arr1 = np.zeros((5,2,8)); arr1\n"
   ]
  },
  {
   "cell_type": "code",
   "execution_count": 113,
   "id": "fbe88a51",
   "metadata": {},
   "outputs": [
    {
     "data": {
      "text/plain": [
       "array([[[5., 5., 5., 5., 5., 5., 5., 5.],\n",
       "        [5., 5., 5., 5., 5., 5., 5., 5.]],\n",
       "\n",
       "       [[5., 5., 5., 5., 5., 5., 5., 5.],\n",
       "        [5., 5., 5., 5., 5., 5., 5., 5.]],\n",
       "\n",
       "       [[5., 5., 5., 5., 5., 5., 5., 5.],\n",
       "        [5., 5., 5., 5., 5., 5., 5., 5.]],\n",
       "\n",
       "       [[5., 5., 5., 5., 5., 5., 5., 5.],\n",
       "        [5., 5., 5., 5., 5., 5., 5., 5.]],\n",
       "\n",
       "       [[5., 5., 5., 5., 5., 5., 5., 5.],\n",
       "        [5., 5., 5., 5., 5., 5., 5., 5.]]])"
      ]
     },
     "execution_count": 113,
     "metadata": {},
     "output_type": "execute_result"
    }
   ],
   "source": [
    "5 + arr1"
   ]
  },
  {
   "cell_type": "code",
   "execution_count": 114,
   "id": "78449e0c",
   "metadata": {},
   "outputs": [],
   "source": [
    "arr2 = np.random.randint(1,101,20).reshape(5,4)"
   ]
  },
  {
   "cell_type": "code",
   "execution_count": 115,
   "id": "bde5a202",
   "metadata": {},
   "outputs": [
    {
     "data": {
      "text/plain": [
       "array([[74, 78, 35, 34],\n",
       "       [51,  2, 64, 64],\n",
       "       [40, 89, 16,  5],\n",
       "       [28, 52, 35, 96],\n",
       "       [50, 56, 28, 99]])"
      ]
     },
     "execution_count": 115,
     "metadata": {},
     "output_type": "execute_result"
    }
   ],
   "source": [
    "arr2"
   ]
  },
  {
   "cell_type": "code",
   "execution_count": 116,
   "id": "9f61165b",
   "metadata": {},
   "outputs": [
    {
     "data": {
      "text/plain": [
       "array([[1., 0., 0.],\n",
       "       [0., 1., 0.],\n",
       "       [0., 0., 1.]])"
      ]
     },
     "execution_count": 116,
     "metadata": {},
     "output_type": "execute_result"
    }
   ],
   "source": [
    "#identity metrix --- eye/identity\n",
    "np.eye(3)"
   ]
  },
  {
   "cell_type": "code",
   "execution_count": 117,
   "id": "83a76653",
   "metadata": {},
   "outputs": [
    {
     "data": {
      "text/plain": [
       "array([[1., 0., 0., 0.],\n",
       "       [0., 1., 0., 0.],\n",
       "       [0., 0., 1., 0.],\n",
       "       [0., 0., 0., 1.]])"
      ]
     },
     "execution_count": 117,
     "metadata": {},
     "output_type": "execute_result"
    }
   ],
   "source": [
    "np.identity(4)"
   ]
  },
  {
   "cell_type": "code",
   "execution_count": 118,
   "id": "d4a7c20a",
   "metadata": {},
   "outputs": [
    {
     "data": {
      "text/plain": [
       "array([[1., 0., 0., 0., 0., 1., 0., 0.],\n",
       "       [0., 0., 1., 0., 0., 0., 0., 1.]])"
      ]
     },
     "execution_count": 118,
     "metadata": {},
     "output_type": "execute_result"
    }
   ],
   "source": [
    "np.eye(4).reshape(2,8)"
   ]
  },
  {
   "cell_type": "code",
   "execution_count": 119,
   "id": "fcfb2e2c",
   "metadata": {},
   "outputs": [
    {
     "data": {
      "text/plain": [
       "array([[18, 75, 15,  1],\n",
       "       [67, 36, 91, 67],\n",
       "       [13, 77, 54, 47],\n",
       "       [75, 25,  1, 67],\n",
       "       [ 3, 23, 62, 14]])"
      ]
     },
     "execution_count": 119,
     "metadata": {},
     "output_type": "execute_result"
    }
   ],
   "source": [
    "# Slicing in array\n",
    "arr1 = np.random.randint(1,101,(5,4)); arr1"
   ]
  },
  {
   "cell_type": "code",
   "execution_count": 120,
   "id": "37c1c6d0",
   "metadata": {},
   "outputs": [
    {
     "name": "stdout",
     "output_type": "stream",
     "text": [
      "`print starting three rows\n",
      "[[18 75 15  1]\n",
      " [67 36 91 67]\n",
      " [13 77 54 47]]\n",
      "------------------------\n",
      "print only starting three columns and rows\n",
      "[[18 75 15]\n",
      " [67 36 91]\n",
      " [13 77 54]]\n",
      "------------------------\n",
      "print rows 4 and 5 columns 2 to 4\n",
      "[[25  1 67]\n",
      " [23 62 14]]\n",
      "------------------------\n",
      "print rows 4 and 5 columns 3 and 4\n",
      "[[77 54]\n",
      " [25  1]]\n",
      "------------------------\n",
      "print rows 4 and 5 columns 1 and 4\n",
      "[[13 47]\n",
      " [75 67]]\n"
     ]
    }
   ],
   "source": [
    "print(\"`print starting three rows\")\n",
    "print(arr1[0:3])\n",
    "print(\"------------------------\")\n",
    "print(\"print only starting three columns and rows\")\n",
    "print(arr1[0:3,0:3])\n",
    "print(\"------------------------\")\n",
    "print(\"print rows 4 and 5 columns 2 to 4\")\n",
    "print(arr1[3:,1:])\n",
    "print(\"------------------------\")\n",
    "print(\"print rows 4 and 5 columns 3 and 4\")\n",
    "print(arr1[2:4,1:3])\n",
    "print(\"------------------------\")\n",
    "print(\"print rows 4 and 5 columns 1 and 4\")\n",
    "print(arr1[2:4,::3])"
   ]
  },
  {
   "cell_type": "code",
   "execution_count": 121,
   "id": "25ab918c",
   "metadata": {},
   "outputs": [
    {
     "data": {
      "text/plain": [
       "array([ 4.,  5.,  9., 11.])"
      ]
     },
     "execution_count": 121,
     "metadata": {},
     "output_type": "execute_result"
    }
   ],
   "source": [
    "# squareroot of array\n",
    "arr3 = np.array([16,25,81,121])\n",
    "np.sqrt(arr3)"
   ]
  },
  {
   "cell_type": "markdown",
   "id": "bb884e73",
   "metadata": {},
   "source": [
    "### Joining numpy arrays --- (There are three ways to join numpy arrays)\n",
    "### 1. vstack --- (verticle stack)"
   ]
  },
  {
   "cell_type": "code",
   "execution_count": 122,
   "id": "6a7cdeab",
   "metadata": {},
   "outputs": [
    {
     "data": {
      "text/plain": [
       "array([[10, 20, 30],\n",
       "       [40, 50, 60],\n",
       "       [70, 80, 90]])"
      ]
     },
     "execution_count": 122,
     "metadata": {},
     "output_type": "execute_result"
    }
   ],
   "source": [
    "n1 = np.array([10,20,30])\n",
    "n2 = np.array([40,50,60])\n",
    "n3 = np.array([70,80,90])\n",
    "np.vstack((n1,n2,n3))"
   ]
  },
  {
   "cell_type": "markdown",
   "id": "fa3ee73f",
   "metadata": {},
   "source": [
    "### 2. hstack --- (Horizontal stack)"
   ]
  },
  {
   "cell_type": "code",
   "execution_count": 123,
   "id": "8a1fa935",
   "metadata": {},
   "outputs": [
    {
     "data": {
      "text/plain": [
       "array([10, 20, 30, 40, 50, 60, 70, 80, 90])"
      ]
     },
     "execution_count": 123,
     "metadata": {},
     "output_type": "execute_result"
    }
   ],
   "source": [
    "np.hstack((n1,n2,n3))"
   ]
  },
  {
   "cell_type": "markdown",
   "id": "65b69d0f",
   "metadata": {},
   "source": [
    "### 3. column_stack --- (Stack columns)"
   ]
  },
  {
   "cell_type": "code",
   "execution_count": 124,
   "id": "c21d16d8",
   "metadata": {},
   "outputs": [
    {
     "data": {
      "text/plain": [
       "array([[10, 40, 70],\n",
       "       [20, 50, 80],\n",
       "       [30, 60, 90]])"
      ]
     },
     "execution_count": 124,
     "metadata": {},
     "output_type": "execute_result"
    }
   ],
   "source": [
    "np.column_stack((n1,n2,n3))"
   ]
  },
  {
   "cell_type": "markdown",
   "id": "e05a744d",
   "metadata": {},
   "source": [
    "### Intersect and setdiff of numpy array"
   ]
  },
  {
   "cell_type": "code",
   "execution_count": 125,
   "id": "d4a24b8d",
   "metadata": {},
   "outputs": [],
   "source": [
    "n1 = np.array([10,20,30,40,50,60])\n",
    "n2 = np.array([50,60,70,80,90])"
   ]
  },
  {
   "cell_type": "markdown",
   "id": "b59198a7",
   "metadata": {},
   "source": [
    "### intersect1d --- (This function returns the common values in two or arrays)"
   ]
  },
  {
   "cell_type": "code",
   "execution_count": 126,
   "id": "36feac82",
   "metadata": {},
   "outputs": [
    {
     "data": {
      "text/plain": [
       "array([50, 60])"
      ]
     },
     "execution_count": 126,
     "metadata": {},
     "output_type": "execute_result"
    }
   ],
   "source": [
    "np.intersect1d(n1,n2)"
   ]
  },
  {
   "cell_type": "markdown",
   "id": "31443b7d",
   "metadata": {},
   "source": [
    "### setdiff1d --- (This function returns the unique values in two arrays)"
   ]
  },
  {
   "cell_type": "code",
   "execution_count": 127,
   "id": "2b0c259d",
   "metadata": {},
   "outputs": [
    {
     "data": {
      "text/plain": [
       "array([10, 20, 30, 40])"
      ]
     },
     "execution_count": 127,
     "metadata": {},
     "output_type": "execute_result"
    }
   ],
   "source": [
    "np.setdiff1d(n1,n2)"
   ]
  },
  {
   "cell_type": "code",
   "execution_count": 128,
   "id": "86d2c702",
   "metadata": {},
   "outputs": [
    {
     "data": {
      "text/plain": [
       "array([70, 80, 90])"
      ]
     },
     "execution_count": 128,
     "metadata": {},
     "output_type": "execute_result"
    }
   ],
   "source": [
    "np.setdiff1d(n2,n1)"
   ]
  },
  {
   "cell_type": "markdown",
   "id": "92b72f71",
   "metadata": {},
   "source": [
    "### How to calculate intersec and setdiff1d values for more than two arrays"
   ]
  },
  {
   "cell_type": "code",
   "execution_count": 129,
   "id": "7854ab2e",
   "metadata": {},
   "outputs": [
    {
     "name": "stdout",
     "output_type": "stream",
     "text": [
      "[10 20 30 40 50 60] [ 20 100 110] [20  1  2  3]\n"
     ]
    }
   ],
   "source": [
    "#from functools import reduce\n",
    "import numpy as np\n",
    "n1 = np.array([10,20,30,40,50,60])\n",
    "n2 = np.array([20,100,110])\n",
    "n3 = np.array([20,1,2,3])\n",
    "print(n1,n2,n3)"
   ]
  },
  {
   "cell_type": "code",
   "execution_count": 130,
   "id": "c7e26e44",
   "metadata": {},
   "outputs": [],
   "source": [
    "#n1_intersec = reduce(np.intersect1d,(n1,n2,n3)); print(n1_intersec)"
   ]
  },
  {
   "cell_type": "code",
   "execution_count": 131,
   "id": "58193888",
   "metadata": {},
   "outputs": [],
   "source": [
    "#n1_set = reduce(np.setdiff1d,(n1,n2,n3)); print(n1_set)"
   ]
  },
  {
   "cell_type": "code",
   "execution_count": 132,
   "id": "3f0d8fce",
   "metadata": {},
   "outputs": [],
   "source": [
    "#n2_set = reduce(np.setdiff1d,(n2,n1,n3)); print(n2_set)"
   ]
  },
  {
   "cell_type": "code",
   "execution_count": 133,
   "id": "1e7fb1b5",
   "metadata": {},
   "outputs": [],
   "source": [
    "#n3_set = reduce(np.setdiff1d,(n3,n2,n1)); print(n3_set)"
   ]
  },
  {
   "cell_type": "markdown",
   "id": "19f29a87",
   "metadata": {},
   "source": [
    "### Addition of numpy arrays"
   ]
  },
  {
   "cell_type": "markdown",
   "id": "329300eb",
   "metadata": {},
   "source": [
    "### 1. np.sum  ( [ n1 , n2 ] )"
   ]
  },
  {
   "cell_type": "code",
   "execution_count": 134,
   "id": "85d1340a",
   "metadata": {},
   "outputs": [
    {
     "data": {
      "text/plain": [
       "100"
      ]
     },
     "execution_count": 134,
     "metadata": {},
     "output_type": "execute_result"
    }
   ],
   "source": [
    "n1 = np.array([10,20])\n",
    "n2 = np.array([30,40])\n",
    "np.sum([n1,n2])"
   ]
  },
  {
   "cell_type": "markdown",
   "id": "fb7381c4",
   "metadata": {},
   "source": [
    "### 2. np.sum  ( [ n1 , n2 ] , axis = 0 )"
   ]
  },
  {
   "cell_type": "code",
   "execution_count": 135,
   "id": "c3b409be",
   "metadata": {},
   "outputs": [
    {
     "data": {
      "text/plain": [
       "array([40, 60])"
      ]
     },
     "execution_count": 135,
     "metadata": {},
     "output_type": "execute_result"
    }
   ],
   "source": [
    "np.sum([n1,n2],axis = 0)"
   ]
  },
  {
   "cell_type": "markdown",
   "id": "011826af",
   "metadata": {},
   "source": [
    "### 3. np.sum  ( [ n1 , n2 ] , axis = 1 )"
   ]
  },
  {
   "cell_type": "code",
   "execution_count": 136,
   "id": "9512f78f",
   "metadata": {},
   "outputs": [
    {
     "data": {
      "text/plain": [
       "array([30, 70])"
      ]
     },
     "execution_count": 136,
     "metadata": {},
     "output_type": "execute_result"
    }
   ],
   "source": [
    "np.sum([n1,n2],axis = 1)"
   ]
  },
  {
   "cell_type": "markdown",
   "id": "8d10b9b4",
   "metadata": {},
   "source": [
    "## NumPy array mathematics"
   ]
  },
  {
   "cell_type": "code",
   "execution_count": 137,
   "id": "68d9c3a1",
   "metadata": {},
   "outputs": [
    {
     "data": {
      "text/plain": [
       "array([[1, 2, 3, 4],\n",
       "       [5, 6, 7, 8]])"
      ]
     },
     "execution_count": 137,
     "metadata": {},
     "output_type": "execute_result"
    }
   ],
   "source": [
    "n1 = np.array([[1,2,3,4],[5,6,7,8]])\n",
    "n1"
   ]
  },
  {
   "cell_type": "code",
   "execution_count": 138,
   "id": "f23b8bb3",
   "metadata": {},
   "outputs": [
    {
     "data": {
      "text/plain": [
       "array([[101, 102, 103, 104],\n",
       "       [105, 106, 107, 108]])"
      ]
     },
     "execution_count": 138,
     "metadata": {},
     "output_type": "execute_result"
    }
   ],
   "source": [
    "n1 += 100\n",
    "n1"
   ]
  },
  {
   "cell_type": "code",
   "execution_count": 139,
   "id": "5e7feee1",
   "metadata": {},
   "outputs": [
    {
     "data": {
      "text/plain": [
       "array([[51, 52, 53, 54],\n",
       "       [55, 56, 57, 58]])"
      ]
     },
     "execution_count": 139,
     "metadata": {},
     "output_type": "execute_result"
    }
   ],
   "source": [
    "n1 -= 50\n",
    "n1"
   ]
  },
  {
   "cell_type": "code",
   "execution_count": 140,
   "id": "703d45a0",
   "metadata": {},
   "outputs": [
    {
     "data": {
      "text/plain": [
       "array([[102, 104, 106, 108],\n",
       "       [110, 112, 114, 116]])"
      ]
     },
     "execution_count": 140,
     "metadata": {},
     "output_type": "execute_result"
    }
   ],
   "source": [
    "n1 *= 2\n",
    "n1"
   ]
  },
  {
   "cell_type": "code",
   "execution_count": 141,
   "id": "c4749308",
   "metadata": {},
   "outputs": [
    {
     "data": {
      "text/plain": [
       "array([[51., 52., 53., 54.],\n",
       "       [55., 56., 57., 58.]])"
      ]
     },
     "execution_count": 141,
     "metadata": {},
     "output_type": "execute_result"
    }
   ],
   "source": [
    "n1 = n1/2\n",
    "n1"
   ]
  },
  {
   "cell_type": "markdown",
   "id": "f8cb601a",
   "metadata": {},
   "source": [
    "## Numpy math functions --- (Mean, Median and std)"
   ]
  },
  {
   "cell_type": "code",
   "execution_count": 142,
   "id": "a2c4797a",
   "metadata": {},
   "outputs": [
    {
     "data": {
      "text/plain": [
       "array([[1, 2, 3, 4],\n",
       "       [5, 6, 7, 8]])"
      ]
     },
     "execution_count": 142,
     "metadata": {},
     "output_type": "execute_result"
    }
   ],
   "source": [
    "n1 = np.array([[1,2,3,4],[5,6,7,8]])\n",
    "n1"
   ]
  },
  {
   "cell_type": "code",
   "execution_count": 143,
   "id": "479df668",
   "metadata": {},
   "outputs": [
    {
     "data": {
      "text/plain": [
       "4.5"
      ]
     },
     "execution_count": 143,
     "metadata": {},
     "output_type": "execute_result"
    }
   ],
   "source": [
    "np.mean(n1)"
   ]
  },
  {
   "cell_type": "code",
   "execution_count": 144,
   "id": "240e8caf",
   "metadata": {},
   "outputs": [
    {
     "data": {
      "text/plain": [
       "4.5"
      ]
     },
     "execution_count": 144,
     "metadata": {},
     "output_type": "execute_result"
    }
   ],
   "source": [
    "np.median(n1)"
   ]
  },
  {
   "cell_type": "code",
   "execution_count": 145,
   "id": "a2e5892f",
   "metadata": {},
   "outputs": [
    {
     "data": {
      "text/plain": [
       "2.29128784747792"
      ]
     },
     "execution_count": 145,
     "metadata": {},
     "output_type": "execute_result"
    }
   ],
   "source": [
    "np.std(n1)"
   ]
  },
  {
   "cell_type": "markdown",
   "id": "3ab90280",
   "metadata": {},
   "source": [
    "## NumPy Save & Load\n",
    "### 1. NumPy Save"
   ]
  },
  {
   "cell_type": "code",
   "execution_count": 146,
   "id": "17340faf",
   "metadata": {},
   "outputs": [
    {
     "data": {
      "text/plain": [
       "array([10, 20, 30, 40, 50, 60, 70, 80, 90])"
      ]
     },
     "execution_count": 146,
     "metadata": {},
     "output_type": "execute_result"
    }
   ],
   "source": [
    "numP1 = np.array([10,20,30,40,50,60,70,80,90]); numP1"
   ]
  },
  {
   "cell_type": "code",
   "execution_count": 147,
   "id": "a9895207",
   "metadata": {},
   "outputs": [],
   "source": [
    "np.save(\"My_NumPy\",numP1)"
   ]
  },
  {
   "cell_type": "code",
   "execution_count": 148,
   "id": "15ccc42b",
   "metadata": {},
   "outputs": [],
   "source": [
    "new_n1 = np.load(\"My_NumPy.npy\")"
   ]
  },
  {
   "cell_type": "code",
   "execution_count": 149,
   "id": "070d2ebd",
   "metadata": {},
   "outputs": [
    {
     "data": {
      "text/plain": [
       "array([10, 20, 30, 40, 50, 60, 70, 80, 90])"
      ]
     },
     "execution_count": 149,
     "metadata": {},
     "output_type": "execute_result"
    }
   ],
   "source": [
    "new_n1"
   ]
  },
  {
   "cell_type": "markdown",
   "id": "fe7ec1ad",
   "metadata": {},
   "source": [
    "## 2. Pandas --- (Import pandas as pd)\n",
    "### Pandas stands for Panel Data and is the core library for data manipulation and data analysis\n",
    "### Pandas Data Structure\n",
    "### A) Series Object --- Single dimensional data\n",
    "### B) Data frame --- Multi-dimensional data"
   ]
  },
  {
   "cell_type": "code",
   "execution_count": 150,
   "id": "629ea497",
   "metadata": {},
   "outputs": [],
   "source": [
    "import pandas as pd"
   ]
  },
  {
   "cell_type": "code",
   "execution_count": 151,
   "id": "e2ec4943",
   "metadata": {},
   "outputs": [
    {
     "data": {
      "text/plain": [
       "138"
      ]
     },
     "execution_count": 151,
     "metadata": {},
     "output_type": "execute_result"
    }
   ],
   "source": [
    "len(dir(pd))"
   ]
  },
  {
   "cell_type": "markdown",
   "id": "fa43725f",
   "metadata": {},
   "source": [
    "### A) Series Object --- (Series Object is an one-dimensional labeled array)"
   ]
  },
  {
   "cell_type": "code",
   "execution_count": 152,
   "id": "26ef60d6",
   "metadata": {},
   "outputs": [
    {
     "name": "stdout",
     "output_type": "stream",
     "text": [
      "0    1\n",
      "1    2\n",
      "2    3\n",
      "3    4\n",
      "4    5\n",
      "dtype: int64\n",
      "<class 'pandas.core.series.Series'>\n"
     ]
    }
   ],
   "source": [
    "# Create series object\n",
    "import pandas as pd\n",
    "s1 = pd.Series([1,2,3,4,5])\n",
    "print(s1)\n",
    "print(type(s1))\n",
    "# the number series starting from 0 is index"
   ]
  },
  {
   "cell_type": "markdown",
   "id": "f92c9094",
   "metadata": {},
   "source": [
    "### --- User can change the value of index using index function like shown below"
   ]
  },
  {
   "cell_type": "code",
   "execution_count": 153,
   "id": "62e88df6",
   "metadata": {},
   "outputs": [
    {
     "data": {
      "text/plain": [
       "1    5\n",
       "2    4\n",
       "3    3\n",
       "4    2\n",
       "5    1\n",
       "dtype: int64"
      ]
     },
     "execution_count": 153,
     "metadata": {},
     "output_type": "execute_result"
    }
   ],
   "source": [
    "s1 = pd.Series([5,4,3,2,1], index=range(1,6))\n",
    "s1"
   ]
  },
  {
   "cell_type": "code",
   "execution_count": 154,
   "id": "a52bbb32",
   "metadata": {},
   "outputs": [
    {
     "data": {
      "text/plain": [
       "a    1\n",
       "b    2\n",
       "c    3\n",
       "d    4\n",
       "e    5\n",
       "dtype: int64"
      ]
     },
     "execution_count": 154,
     "metadata": {},
     "output_type": "execute_result"
    }
   ],
   "source": [
    "s1 = pd.Series([1,2,3,4,5], index = ['a','b','c','d','e']); s1"
   ]
  },
  {
   "cell_type": "markdown",
   "id": "926e0f0d",
   "metadata": {},
   "source": [
    "### Series Object as dict { }"
   ]
  },
  {
   "cell_type": "code",
   "execution_count": 155,
   "id": "cf3a7c5b",
   "metadata": {},
   "outputs": [
    {
     "data": {
      "text/plain": [
       "A    10\n",
       "B    20\n",
       "C    30\n",
       "D    40\n",
       "dtype: int64"
      ]
     },
     "execution_count": 155,
     "metadata": {},
     "output_type": "execute_result"
    }
   ],
   "source": [
    "s2 = pd.Series({\"A\":10,\"B\":20,\"C\":30,\"D\":40})\n",
    "s2"
   ]
  },
  {
   "cell_type": "code",
   "execution_count": 156,
   "id": "954b955d",
   "metadata": {},
   "outputs": [
    {
     "data": {
      "text/plain": [
       "B     20.0\n",
       "C     30.0\n",
       "A     10.0\n",
       "D     40.0\n",
       "A5     NaN\n",
       "dtype: float64"
      ]
     },
     "execution_count": 156,
     "metadata": {},
     "output_type": "execute_result"
    }
   ],
   "source": [
    "s3 = pd.Series({\"A\":10,\"B\":20,\"C\":30,\"D\":40},index = ['B','C','A','D','A5']);s3"
   ]
  },
  {
   "cell_type": "markdown",
   "id": "8b52dcb4",
   "metadata": {},
   "source": [
    "### Extracting Individual Elements"
   ]
  },
  {
   "cell_type": "code",
   "execution_count": 157,
   "id": "4c226805",
   "metadata": {},
   "outputs": [
    {
     "name": "stdout",
     "output_type": "stream",
     "text": [
      "5\n",
      "--------------\n",
      "A    1\n",
      "B    2\n",
      "C    3\n",
      "D    4\n",
      "dtype: int64\n",
      "--------------\n",
      "C    3\n",
      "D    4\n",
      "E    5\n",
      "F    6\n",
      "dtype: int64\n",
      "--------------\n",
      "A    1\n",
      "C    3\n",
      "E    5\n",
      "dtype: int64\n",
      "--------------\n",
      "C    3\n",
      "D    4\n",
      "E    5\n",
      "dtype: int64\n"
     ]
    }
   ],
   "source": [
    "s4 = pd.Series([1,2,3,4,5,6],index = ['A','B','C','D','E','F'])\n",
    "print(s4[4])\n",
    "print(\"--------------\")\n",
    "print(s4[:4])\n",
    "print(\"--------------\")\n",
    "print(s4[2:])\n",
    "print(\"--------------\")\n",
    "print(s4[::2])\n",
    "print(\"--------------\")\n",
    "print(s4[-4:-1])"
   ]
  },
  {
   "cell_type": "code",
   "execution_count": 158,
   "id": "1ef33021",
   "metadata": {},
   "outputs": [
    {
     "name": "stdout",
     "output_type": "stream",
     "text": [
      "name1    Python\n",
      "name2      HTML\n",
      "name3       CSS\n",
      "dtype: object\n",
      "-----------------\n",
      "Python\n"
     ]
    }
   ],
   "source": [
    "d1 = pd.Series({\"name1\":\"Python\",\"name2\":\"HTML\",\"name3\":\"CSS\"})\n",
    "print(d1)\n",
    "print(\"-----------------\")\n",
    "print(d1[\"name1\"])"
   ]
  },
  {
   "cell_type": "markdown",
   "id": "77e6254a",
   "metadata": {},
   "source": [
    "### Basic math operations on series"
   ]
  },
  {
   "cell_type": "code",
   "execution_count": 159,
   "id": "dc026b28",
   "metadata": {},
   "outputs": [
    {
     "name": "stdout",
     "output_type": "stream",
     "text": [
      "1     6\n",
      "2     7\n",
      "3     8\n",
      "4     9\n",
      "5    10\n",
      "6    11\n",
      "7    12\n",
      "dtype: int64\n",
      "---------------\n",
      "1    11.0\n",
      "2    22.0\n",
      "3    33.0\n",
      "4    44.0\n",
      "5    55.0\n",
      "6    66.0\n",
      "7    77.0\n",
      "8     NaN\n",
      "dtype: float64\n"
     ]
    }
   ],
   "source": [
    "s1 = pd.Series([1,2,3,4,5,6,7],index = range(1,8))\n",
    "s2 = pd.Series([10,20,30,40,50,60,70,80],index = range(1,9))\n",
    "print(s1+5)\n",
    "print(\"---------------\")\n",
    "print(s1+s2)"
   ]
  },
  {
   "cell_type": "code",
   "execution_count": null,
   "id": "a6bbe3ab",
   "metadata": {},
   "outputs": [],
   "source": []
  }
 ],
 "metadata": {
  "kernelspec": {
   "display_name": "Python 3 (ipykernel)",
   "language": "python",
   "name": "python3"
  },
  "language_info": {
   "codemirror_mode": {
    "name": "ipython",
    "version": 3
   },
   "file_extension": ".py",
   "mimetype": "text/x-python",
   "name": "python",
   "nbconvert_exporter": "python",
   "pygments_lexer": "ipython3",
   "version": "3.11.0"
  }
 },
 "nbformat": 4,
 "nbformat_minor": 5
}
